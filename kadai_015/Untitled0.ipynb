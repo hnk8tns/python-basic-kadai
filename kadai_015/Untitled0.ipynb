{
  "nbformat": 4,
  "nbformat_minor": 0,
  "metadata": {
    "colab": {
      "provenance": []
    },
    "kernelspec": {
      "name": "python3",
      "display_name": "Python 3"
    },
    "language_info": {
      "name": "python"
    }
  },
  "cells": [
    {
      "cell_type": "code",
      "source": [
        "class Human:\n",
        "  def __init__(self, name, age):\n",
        "    self.name = name\n",
        "    self.age = age\n",
        "\n",
        "  def printinfo(self):\n",
        "    print(self.name)\n",
        "    print(self.age)\n",
        "\n",
        "human = Human(\"侍太郎\", 36)\n",
        "human.printinfo()"
      ],
      "metadata": {
        "colab": {
          "base_uri": "https://localhost:8080/"
        },
        "id": "bSmyiS9baitU",
        "outputId": "9e5e02d0-7134-49dc-b35c-0c1cb828f230"
      },
      "execution_count": 12,
      "outputs": [
        {
          "output_type": "stream",
          "name": "stdout",
          "text": [
            "侍太郎\n",
            "36\n"
          ]
        }
      ]
    }
  ]
}