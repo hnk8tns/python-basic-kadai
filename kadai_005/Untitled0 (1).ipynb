{
  "nbformat": 4,
  "nbformat_minor": 0,
  "metadata": {
    "colab": {
      "provenance": []
    },
    "kernelspec": {
      "name": "python3",
      "display_name": "Python 3"
    },
    "language_info": {
      "name": "python"
    }
  },
  "cells": [
    {
      "cell_type": "code",
      "source": [
        "top = 10\n",
        "under = 20\n",
        "height = 5\n",
        "\n",
        "area = ((top + under) * height / 2)\n",
        "print(str(area) + \"cm²\")"
      ],
      "metadata": {
        "colab": {
          "base_uri": "https://localhost:8080/"
        },
        "id": "foK4bSboTrX1",
        "outputId": "6e7d9cbd-cc82-47ad-901d-37024255c9be"
      },
      "execution_count": 13,
      "outputs": [
        {
          "output_type": "stream",
          "name": "stdout",
          "text": [
            "75.0cm²\n"
          ]
        }
      ]
    }
  ]
}