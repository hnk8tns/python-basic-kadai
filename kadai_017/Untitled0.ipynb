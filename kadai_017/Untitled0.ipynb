{
  "nbformat": 4,
  "nbformat_minor": 0,
  "metadata": {
    "colab": {
      "provenance": []
    },
    "kernelspec": {
      "name": "python3",
      "display_name": "Python 3"
    },
    "language_info": {
      "name": "python"
    }
  },
  "cells": [
    {
      "cell_type": "code",
      "source": [
        "class Human:\n",
        "  def __init__(self, name, age):\n",
        "    self.name = name\n",
        "    self.age = age\n",
        "\n",
        "  def check_adult(self):\n",
        "    if self.age >= 20:\n",
        "      print(f\"{self.name}は大人である\")\n",
        "    else:\n",
        "      print(f\"{self.name}は大人でない\")\n",
        "\n",
        "users = [\n",
        "    Human(\"侍一郎\", 18),\n",
        "    Human(\"侍二郎\", 20),\n",
        "    Human(\"侍三郎\", 23),\n",
        "    Human(\"侍四郎\", 28),\n",
        "]\n",
        "\n",
        "for user in users:\n",
        "  user.check_adult()"
      ],
      "metadata": {
        "colab": {
          "base_uri": "https://localhost:8080/"
        },
        "id": "WL9seVy6p7WE",
        "outputId": "34f65273-3013-41ac-c8ec-49103ee0953f"
      },
      "execution_count": 4,
      "outputs": [
        {
          "output_type": "stream",
          "name": "stdout",
          "text": [
            "侍一郎は大人でない\n",
            "侍二郎は大人である\n",
            "侍三郎は大人である\n",
            "侍四郎は大人である\n"
          ]
        }
      ]
    }
  ]
}