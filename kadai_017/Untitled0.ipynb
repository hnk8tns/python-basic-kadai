{
  "nbformat": 4,
  "nbformat_minor": 0,
  "metadata": {
    "colab": {
      "provenance": []
    },
    "kernelspec": {
      "name": "python3",
      "display_name": "Python 3"
    },
    "language_info": {
      "name": "python"
    }
  },
  "cells": [
    {
      "cell_type": "code",
      "source": [
        "class Human:\n",
        "  def __init__(self, name, age):\n",
        "    self.name = name\n",
        "    self.age = age\n",
        "\n",
        "  def check_adult(self):\n",
        "    if self.age >= 20:\n",
        "      print(f\"{self.name}は大人である\")\n",
        "    else:\n",
        "      print(f\"{self.name}は大人でない\")\n",
        "\n",
        "user1 = Human(\"侍一郎\", 18)\n",
        "user2 = Human(\"侍二郎\", 20)\n",
        "user3 = Human(\"侍三郎\", 23)\n",
        "user4 = Human(\"侍四郎\", 28)\n",
        "\n",
        "user1.check_adult()\n",
        "user2.check_adult()\n",
        "user3.check_adult()\n",
        "user4.check_adult()"
      ],
      "metadata": {
        "colab": {
          "base_uri": "https://localhost:8080/"
        },
        "id": "WL9seVy6p7WE",
        "outputId": "8f57e9af-8889-4c83-c44f-fbc292404dea"
      },
      "execution_count": 3,
      "outputs": [
        {
          "output_type": "stream",
          "name": "stdout",
          "text": [
            "侍一郎は大人でない\n",
            "侍二郎は大人である\n",
            "侍三郎は大人である\n",
            "侍四郎は大人である\n"
          ]
        }
      ]
    }
  ]
}