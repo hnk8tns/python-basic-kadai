{
  "nbformat": 4,
  "nbformat_minor": 0,
  "metadata": {
    "colab": {
      "provenance": []
    },
    "kernelspec": {
      "name": "python3",
      "display_name": "Python 3"
    },
    "language_info": {
      "name": "python"
    }
  },
  "cells": [
    {
      "cell_type": "code",
      "source": [
        "def calculate_total(price, tax):\n",
        "  total = price + tax\n",
        "  print(f\"{total}円\")\n",
        "\n",
        "calculate_total(110, 10)"
      ],
      "metadata": {
        "colab": {
          "base_uri": "https://localhost:8080/"
        },
        "id": "P3wDMZM2n-AQ",
        "outputId": "26dc73d3-f043-4223-9e96-6e6cdae86ff5"
      },
      "execution_count": 5,
      "outputs": [
        {
          "output_type": "stream",
          "name": "stdout",
          "text": [
            "120円\n"
          ]
        }
      ]
    }
  ]
}